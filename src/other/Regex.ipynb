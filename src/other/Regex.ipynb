{
 "cells": [
  {
   "cell_type": "markdown",
   "metadata": {},
   "source": [
    "# Regex"
   ]
  },
  {
   "cell_type": "markdown",
   "metadata": {},
   "source": [
    " **[  ]** -> specifies a set of characters \n",
    "* to match [abc] in *\"**abc**des\"*\n",
    "\n",
    "**-** in **[0-9]** or **[a-e]** -> range of characters\n",
    "\n",
    "**^** in **[^abc]** -> any characters except *abc* (*works only in **[ ]***)"
   ]
  },
  {
   "cell_type": "markdown",
   "metadata": {},
   "source": [
    "**{n,m}** -> min **n** but most **m** repetitions of pattern to the left"
   ]
  },
  {
   "cell_type": "markdown",
   "metadata": {},
   "source": [
    "**()** -> to group sub-patterns"
   ]
  },
  {
   "cell_type": "markdown",
   "metadata": {},
   "source": [
    "**( .. )** -> matchs any single character *(except newline '\\n')\n",
    "*  **ac** match and **a** no match"
   ]
  },
  {
   "cell_type": "markdown",
   "metadata": {},
   "source": [
    "**( * )** -> matches *0 or more occurences* of pattern to the left\n",
    "\n",
    "**( + )** -> matches *1 or more occurences* of pattern to the left\n",
    "\n",
    "**( ? )** -> matches *0 or 1 occurences* of pattern to the left"
   ]
  },
  {
   "cell_type": "markdown",
   "metadata": {},
   "source": [
    "**^** -> if string starts with certain character\n",
    "\n",
    "**$** -> if string ends with certain character\n",
    "\n",
    "**|** -> for alternation **or** \n",
    "\n",
    "**( \\ )** -> to ecaspe characters like $ so regex doesnt interprete it in a special way"
   ]
  },
  {
   "cell_type": "markdown",
   "metadata": {},
   "source": [
    "**\\A** -> if specified characters are at the start \n",
    "* \\Athe -> match *the sun*\n",
    "\n",
    "**\\b** -> if specified characters are at the start or end of a word\n",
    "\n",
    "**\\B** -> (opposite of *\\b*) specified characters not at start of end of a word\n",
    "\n",
    "**\\d** -> any decimal digit (*equal to [0-9]*)\n",
    "\n",
    "**\\D** -> any non decimal digit (*equal to [^0-9]*)\n",
    "\n",
    "**\\s** -> matches where string contains any whitespace\n",
    "\n",
    "**\\S** -> matches where string contains any non whitespace\n",
    "\n",
    "**\\w** -> matches any alphanumeric character (digits and alphabets)\n",
    "\n",
    "**\\W** -> matches any non alphanumeric character (digits and alphabets)\n",
    "\n",
    "**\\Z** -> matches if specifeied characters are at end of string\n",
    "\n",
    "\n"
   ]
  },
  {
   "cell_type": "code",
   "execution_count": 96,
   "metadata": {},
   "outputs": [],
   "source": [
    "import re"
   ]
  },
  {
   "cell_type": "code",
   "execution_count": 37,
   "metadata": {},
   "outputs": [
    {
     "name": "stdout",
     "output_type": "stream",
     "text": [
      "[]\n"
     ]
    }
   ],
   "source": [
    "# matches any characters except letters, digits and spaces\n",
    "\n",
    "txt = input(\"ENTER Text\")\n",
    "print(re.findall('[^\\w|\\s]',txt))"
   ]
  },
  {
   "cell_type": "code",
   "execution_count": 38,
   "metadata": {},
   "outputs": [
    {
     "name": "stdout",
     "output_type": "stream",
     "text": [
      "W\n"
     ]
    }
   ],
   "source": [
    "#replace every vowel with an \"e\" and should be in caps\n",
    "txt = input(\"ENTER Text\")\n",
    "txt = txt.upper()\n",
    "print(re.sub('[aiou]','E',txt))"
   ]
  },
  {
   "cell_type": "code",
   "execution_count": 39,
   "metadata": {},
   "outputs": [
    {
     "name": "stdout",
     "output_type": "stream",
     "text": [
      "Waca\n"
     ]
    }
   ],
   "source": [
    "# The Karaca's Encryption Algorithm -> Reverse the input -> \n",
    "# Replace all vowels with numbers -> plus 'aca\n",
    "\n",
    "\n",
    "txt = txt[::-1]\n",
    "txt = txt.translate(str.maketrans('aeou','0123'))\n",
    "txt += \"aca\"\n",
    "print(txt)"
   ]
  },
  {
   "cell_type": "markdown",
   "metadata": {},
   "source": [
    "Create a function which takes in an encoded string and \n",
    "returns a dictionary according to the following example\n",
    "\n",
    "```python\n",
    "\n",
    "parse_code(\"John000Doe000123\") ➞ {\n",
    "  \"first_name\": \"John\",\n",
    "  \"last_name\": \"Doe\",\n",
    "  \"id\": \"123\"\n",
    "}\n",
    "```"
   ]
  },
  {
   "cell_type": "code",
   "execution_count": 47,
   "metadata": {},
   "outputs": [
    {
     "name": "stdout",
     "output_type": "stream",
     "text": [
      "{'first_name': 'Q', 'last_name': '1', 'id': '1'}\n"
     ]
    }
   ],
   "source": [
    "txt = input(\"ENTER STRING\")\n",
    "a,b,c = re.findall('[^0]+',txt)\n",
    "print({\"first_name\":a,\"last_name\":b,\"id\":c})"
   ]
  },
  {
   "cell_type": "markdown",
   "metadata": {},
   "source": [
    "Valid Hex Code\n",
    "\n",
    "* starts with #\n",
    "* length of 6\n",
    "* chars -> 0-9 and A-F or a-f"
   ]
  },
  {
   "cell_type": "code",
   "execution_count": null,
   "metadata": {},
   "outputs": [
    {
     "name": "stdout",
     "output_type": "stream",
     "text": [
      "True\n"
     ]
    }
   ],
   "source": [
    "txt = input(\"ENTER STRING\")\n",
    "print(bool(re.match('#[A-Fa-f0-9]{6}$', txt)))"
   ]
  },
  {
   "cell_type": "markdown",
   "metadata": {},
   "source": [
    "function to return the sum of the negative integers only"
   ]
  },
  {
   "cell_type": "code",
   "execution_count": null,
   "metadata": {},
   "outputs": [
    {
     "name": "stdout",
     "output_type": "stream",
     "text": [
      "-23\n"
     ]
    }
   ],
   "source": [
    "txt = input(\"ENTER STRING\")\n",
    "print(sum(map(int,re.findall('[-][0-9]+[0-9]',txt))))"
   ]
  },
  {
   "cell_type": "markdown",
   "metadata": {},
   "source": [
    "Return the maximum number of animal names possible from string\n"
   ]
  },
  {
   "cell_type": "code",
   "execution_count": 44,
   "metadata": {},
   "outputs": [],
   "source": [
    "animals = [\"dog\", \"cat\", \"bat\", \"cock\", \"cow\", \"pig\",\n",
    "\"fox\", \"ant\", \"bird\", \"lion\", \"wolf\", \"deer\", \"bear\",\n",
    "\"frog\", \"hen\", \"mole\", \"duck\", \"goat\"]"
   ]
  },
  {
   "cell_type": "code",
   "execution_count": 48,
   "metadata": {},
   "outputs": [
    {
     "name": "stdout",
     "output_type": "stream",
     "text": [
      "2\n"
     ]
    }
   ],
   "source": [
    "counts = []\n",
    "def f(t, c):\n",
    "\tfor a in animals:\n",
    "\t\ts = t\n",
    "\t\tfor x in a: s = s.replace(x, \"\", 1)\n",
    "\t\tif len(s) + len(a) == len(t): f(s, c + 1)\n",
    "\tcounts.append(c)\n",
    "txt = input(\"ENTER STRING\")\n",
    "f(txt,0)\n",
    "print(max(counts))"
   ]
  },
  {
   "cell_type": "markdown",
   "metadata": {},
   "source": [
    "**Convert from lambda to def**\n",
    "\n",
    "```python\n",
    "func = lambda a, b: a * (b - 2)\n",
    "```\n",
    "Same as\n",
    "```python\n",
    "def func(a, b):\n",
    "  return a * (b - 2)\n",
    "```"
   ]
  },
  {
   "cell_type": "code",
   "execution_count": 107,
   "metadata": {},
   "outputs": [
    {
     "name": "stdout",
     "output_type": "stream",
     "text": [
      "def func(a, b):\n",
      "  return a * (b - 2)\n"
     ]
    }
   ],
   "source": [
    "Lfunc = input(\"ENTER LAMBDA FUNCTION : \")\n",
    "Dfunc = \"def \"\n",
    "#def name(): in string\n",
    "name = re.match('^[a-z]*[a-z|A-Z]',Lfunc).group(0)\n",
    "Lfunc = Lfunc.replace(name + \" = lambda \",\"\")\n",
    "Dfunc += name + \"(\"\n",
    "i = Lfunc.index(\":\")\n",
    "Dfunc += Lfunc[0:i] + \"):\\n  return\" + Lfunc[i + 1:len(Lfunc)]\n",
    "\n",
    "print(Dfunc)"
   ]
  },
  {
   "cell_type": "markdown",
   "metadata": {},
   "source": [
    "##Regex to parse math equations"
   ]
  },
  {
   "cell_type": "code",
   "execution_count": 51,
   "metadata": {},
   "outputs": [
    {
     "name": "stdout",
     "output_type": "stream",
     "text": [
      "['sin', '(', '1', '+', '2x', '*', 'x', '2', ')', '+', 'tan', '(', '2.123', '*', 'x', ')']\n",
      "['sin', '(', '1', '+', '2x', '*', 'x', '^', '2', ')', '+', 'tan', '(', '2.123', '*', 'x', ')']\n",
      "['1', '-', '2', '+', '3', '*', '4', '/', '5']\n",
      "1\n",
      "['1', '-', '2', '+', '3', '*', '4']\n",
      "['1', '-', '2', '+', '3']\n",
      "['1', '-', '2']\n",
      "-1.0\n",
      "['+', '3']\n",
      "2.0\n",
      "LENGTH MULTIPLE 2\n",
      "['2', '+', '3', '*', '4']\n"
     ]
    }
   ],
   "source": [
    "import re\n",
    "\n",
    "s = \"sin( 1 + 2x * x^2 ) + tan( 2.123 * x )\"\n",
    "a = re.findall(r\"(\\b\\w*[\\.]?\\w+\\b|[\\(\\)\\+\\*\\-\\/])\", s)\n",
    "print(a)\n",
    "b = re.findall(r\"(\\b\\w*[\\.]?\\w+\\b|[\\(\\)\\+\\*\\-\\/]|\\b[\\^])\", s)\n",
    "print(b)\n",
    "\n"
   ]
  },
  {
   "cell_type": "code",
   "execution_count": 56,
   "metadata": {},
   "outputs": [
    {
     "name": "stdout",
     "output_type": "stream",
     "text": [
      "['1', '-', '2', '+', '3', '*', '4', '/', '5']\n",
      "0.0\n"
     ]
    }
   ],
   "source": [
    "import re\n",
    "\n",
    "def sub():pass\n",
    "def add():pass\n",
    "def multiply():pass\n",
    "#create substring from 0 to index of /\n",
    "def divide(parsed):\n",
    "    ans = 0.0\n",
    "    return ans\n",
    "\n",
    "def solve(parsed):\n",
    "    ans = 0.0\n",
    "    ans = divide(parsed)\n",
    "\n",
    "    return ans\n",
    "    \n",
    "equation = \"1 - 2 + 3 * 4 / 5\"\n",
    "parsed = re.findall(r\"(\\b\\w*[\\.]?\\w+\\b|[\\(\\)\\+\\*\\-\\/]|\\b[\\^])\", t)\n",
    "print(parsed)\n",
    "print(solve(parsed))\n"
   ]
  }
 ],
 "metadata": {
  "kernelspec": {
   "display_name": "Python 3.10.8 64-bit (microsoft store)",
   "language": "python",
   "name": "python3"
  },
  "language_info": {
   "codemirror_mode": {
    "name": "ipython",
    "version": 3
   },
   "file_extension": ".py",
   "mimetype": "text/x-python",
   "name": "python",
   "nbconvert_exporter": "python",
   "pygments_lexer": "ipython3",
   "version": "3.10.8"
  },
  "orig_nbformat": 4,
  "vscode": {
   "interpreter": {
    "hash": "4002459b2a34582ef074ed8319629775a35d0246ebd0f70eba9a37a220e97760"
   }
  }
 },
 "nbformat": 4,
 "nbformat_minor": 2
}
