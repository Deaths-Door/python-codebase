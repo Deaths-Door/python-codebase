{
 "cells": [
  {
   "cell_type": "markdown",
   "metadata": {},
   "source": [
    "# Recursion"
   ]
  },
  {
   "cell_type": "markdown",
   "metadata": {},
   "source": [
    "#### Josephus Permutation\n",
    "\n",
    "n prisoners -> every k person killed -> give og pos of person who survived\n",
    "\n",
    "```python\n",
    "who_goes_free(9, 2) ➞ 2\n",
    "\n",
    "# Prisoners = [0, 1, 2, 3, 4, 5, 6, 7, 8]\n",
    "# Executed people replaced by - (a dash) for illustration purposes.\n",
    "# 1st round of execution = [0, -, 2, -, 4, -, 6, -, 8]  -> [0, 2, 4, 6, 8]\n",
    "# 2nd round = [-, 2, -, 6, -] -> [2, 6]  # 0 is killed in this round because it's beside 8 who was skipped over.\n",
    "# 3rd round = [2, -]\n",
    "\n",
    "```"
   ]
  },
  {
   "cell_type": "code",
   "execution_count": 21,
   "metadata": {},
   "outputs": [
    {
     "name": "stdout",
     "output_type": "stream",
     "text": [
      "2\n"
     ]
    }
   ],
   "source": [
    "def whoSurvives(k,hostages,index):\n",
    "    #if ans found\n",
    "    if(len(hostages) == 1 or len(hostages) == 0):\n",
    "        print(index)\n",
    "        return\n",
    "    # from 0 -> length skipping k\n",
    "    t = list(range(index,hostages[len(hostages) - 1],k))\n",
    "    #print(t)\n",
    "\n",
    "    #index of last person killed\n",
    "    index = (len(hostages) - 1) - ((len(hostages)-1)%k)\n",
    "    #print(index)\n",
    "    \n",
    "    whoSurvives(k,t,index)\n",
    "n = int(input(\"ENTER N :\"))\n",
    "k = int(input(\"ENTER K :\"))\n",
    "hostages = list(range(0,n))\n",
    "whoSurvives(k,hostages,0)"
   ]
  },
  {
   "cell_type": "markdown",
   "metadata": {},
   "source": [
    "#### Palindrome phrase\n",
    "\n",
    "return palindrome or not\n",
    "\n",
    "```python\n",
    "is_palindrome(\"Go hang a salami, I'm a lasagna hog!\") ➞ True\n",
    "```\n",
    "\n",
    "* Symbols and special characters should be ignored.\n",
    "* You are expected to solve this challenge via recursion.\n",
    "* You can check on the Resources tab for more details about recursion."
   ]
  },
  {
   "cell_type": "code",
   "execution_count": 22,
   "metadata": {},
   "outputs": [],
   "source": [
    "import re"
   ]
  },
  {
   "cell_type": "code",
   "execution_count": 35,
   "metadata": {},
   "outputs": [
    {
     "name": "stdout",
     "output_type": "stream",
     "text": [
      "gohangasalamiimalasagnahog\n",
      "True\n"
     ]
    }
   ],
   "source": [
    "def isPalindrome(s):\n",
    "    l = len(s)\n",
    "    if l < 2:\n",
    "        return True\n",
    "    elif s[0] == s[l - 1]:\n",
    "        return isPalindrome(s[1:l - 1])\n",
    "    else :\n",
    "        return False\n",
    "\n",
    "s = input(\"ENTER STRING : \")\n",
    "\n",
    "#remove not alphanumeric chars\n",
    "s = (re.sub('[^a-z|A-Z|0-9]','',s)).lower()\n",
    "print(s)\n",
    "print(isPalindrome(s))"
   ]
  },
  {
   "cell_type": "markdown",
   "metadata": {},
   "source": [
    "#### Number Sequence\n",
    "\n",
    "n long string -> nums n to 1 and 1 to n\n",
    "\n",
    "```python\n",
    "number_sequence(9) ➞ \"5 4 3 2 1 2 3 4 5\"\n",
    "```"
   ]
  },
  {
   "cell_type": "markdown",
   "metadata": {},
   "source": [
    "#### Nth Pentagon Number"
   ]
  },
  {
   "cell_type": "code",
   "execution_count": 63,
   "metadata": {},
   "outputs": [
    {
     "name": "stdout",
     "output_type": "stream",
     "text": [
      "141\n"
     ]
    }
   ],
   "source": [
    "def findAns(n):\n",
    "    if n == 1: return 1\n",
    "    return findAns(n -1) + 5*(n - 1)\n",
    "n = int(input(\"ENTER NUM: \"))\n",
    "\n",
    "#non recursive way\n",
    "ans = 1 + n * (n - 1) * 5 / 2\n",
    "\n",
    "#recursive way\n",
    "print(findAns(n))\n",
    "\n"
   ]
  },
  {
   "cell_type": "markdown",
   "metadata": {},
   "source": [
    "#### Collatz Sequence\n",
    "\n",
    "* N even -> /2\n",
    "* N odd -> 3x + 1\n",
    "* stop when N == 1\n",
    "\n",
    "Return max num"
   ]
  },
  {
   "cell_type": "code",
   "execution_count": 70,
   "metadata": {},
   "outputs": [
    {
     "name": "stdout",
     "output_type": "stream",
     "text": [
      "256\n"
     ]
    }
   ],
   "source": [
    "def solve(n):\n",
    "    return 1 if n == 1 else max(n,(solve(n*3+1) if n%2 else solve(n//2)))\n",
    "n = int(input(\"ENTER NUM: \"))\n",
    "print(solve(n))"
   ]
  }
 ],
 "metadata": {
  "kernelspec": {
   "display_name": "Python 3.10.8 64-bit (microsoft store)",
   "language": "python",
   "name": "python3"
  },
  "language_info": {
   "codemirror_mode": {
    "name": "ipython",
    "version": 3
   },
   "file_extension": ".py",
   "mimetype": "text/x-python",
   "name": "python",
   "nbconvert_exporter": "python",
   "pygments_lexer": "ipython3",
   "version": "3.10.8"
  },
  "orig_nbformat": 4,
  "vscode": {
   "interpreter": {
    "hash": "4002459b2a34582ef074ed8319629775a35d0246ebd0f70eba9a37a220e97760"
   }
  }
 },
 "nbformat": 4,
 "nbformat_minor": 2
}
