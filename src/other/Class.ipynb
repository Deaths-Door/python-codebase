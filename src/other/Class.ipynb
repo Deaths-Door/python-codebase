{
 "cells": [
  {
   "cell_type": "markdown",
   "metadata": {},
   "source": [
    "# Classes"
   ]
  },
  {
   "cell_type": "code",
   "execution_count": 1,
   "metadata": {},
   "outputs": [
    {
     "name": "stdout",
     "output_type": "stream",
     "text": [
      "Muje kaya Lena he\n"
     ]
    }
   ],
   "source": []
  },
  {
   "cell_type": "markdown",
   "metadata": {},
   "source": [
    "Return Circumference and Area of Circle"
   ]
  },
  {
   "cell_type": "code",
   "execution_count": 13,
   "metadata": {},
   "outputs": [],
   "source": [
    "from math import pi as PI"
   ]
  },
  {
   "cell_type": "code",
   "execution_count": 14,
   "metadata": {},
   "outputs": [
    {
     "name": "stdout",
     "output_type": "stream",
     "text": [
      "380.132711084365\n"
     ]
    }
   ],
   "source": [
    "class Circle:\n",
    "    def __init__(self,r):\n",
    "        self.r = r\n",
    "    def area(self):\n",
    "        return PI * self.r **2\n",
    "    def circumference(self):\n",
    "        return 2 * PI * self.r\n",
    "\n",
    "print(Circle(11).area())"
   ]
  },
  {
   "cell_type": "markdown",
   "metadata": {},
   "source": [
    "# Create fraction class\n",
    "\n",
    "* support arithmetic Operations(+,-,/,*) and Comparison Operations (==,!=,<,>,<=,>=)\n",
    "* frac to deciamal and visa versa"
   ]
  },
  {
   "cell_type": "code",
   "execution_count": 66,
   "metadata": {},
   "outputs": [
    {
     "name": "stdout",
     "output_type": "stream",
     "text": [
      "8/15\n",
      "2/15\n",
      "1/15\n",
      "5/3\n"
     ]
    }
   ],
   "source": [
    "class Fraction:\n",
    "    def __init__(self,a,b):\n",
    "        if a == 0 or b == 0:\n",
    "            return 0\n",
    "        self.a = a\n",
    "        self.b = b\n",
    "    #shoe fraction in string\n",
    "    def asString(self,n,d):\n",
    "        frac = \"\"\n",
    "        #both negative -> positve\n",
    "        if n < 0 and d < 0:\n",
    "            frac = str(abs(n)) + \"/\" + str(abs(d))\n",
    "        #neg + pos = neg\n",
    "        elif n < 0 or d < 0:\n",
    "            frac = \"-\" + str(abs(n)) + str(abs(d))\n",
    "        else:\n",
    "            frac = str(n) + \"/\" + str(d)\n",
    "        return frac\n",
    "    #gcd\n",
    "    def gcd(self,x,y):\n",
    "        if x == 0:\n",
    "            return y\n",
    "        return self.gcd(y%x,x)\n",
    "    #simplify fraction\n",
    "    def simplify(self,n,d):\n",
    "        cf = self.gcd(n,d)\n",
    "        d = int(d/cf)\n",
    "        n = int(n/cf)\n",
    "        return self.asString(n,d)\n",
    "    #maths operation\n",
    "    def __add__(self,other):\n",
    "        d = (self.b * other.b) / self.gcd(self.b,other.b)\n",
    "        n = self.a * (d/self.b) + other.a * (d/other.b)\n",
    "        return self.simplify(n,d)\n",
    "    def __sub__(self,other):\n",
    "        d = (self.b * other.b) / self.gcd(self.b,other.b)\n",
    "        n = self.a * (d/self.b) - other.a * (d/other.b)\n",
    "        return self.simplify(n,d)\n",
    "    def __mul__(self,other):\n",
    "        n = self.a * other.a\n",
    "        d = self.b * other.b\n",
    "        return self.asString(n,d)\n",
    "    def __truediv__(self,other):\n",
    "        #swap nums -> 1/6 = 6/1\n",
    "        other.a,other.b = other.b,other.a\n",
    "        return self.__mul__(other)\n",
    "    #comparsion\n",
    "    # < \n",
    "    def __lt__(self, other):\n",
    "        pass\n",
    "    # >\n",
    "    def __gt__(self, other):\n",
    "        pass\n",
    "    # <=\n",
    "    def __le__(self, other):\n",
    "        pass\n",
    "    # >=\n",
    "    def __ge__(self, other):\n",
    "        pass\n",
    "    # == \n",
    "    def __eq__(self, other):\n",
    "        pass\n",
    "    # !=\n",
    "    def __ne__(self, other):\n",
    "        pass\n",
    "\n",
    "print(Fraction(1,3) + Fraction(1,5))\n",
    "print(Fraction(1,3) - Fraction(1,5))\n",
    "print(Fraction(1,3) * Fraction(1,5))\n",
    "print(Fraction(1,3) / Fraction(1,5))\n"
   ]
  },
  {
   "cell_type": "markdown",
   "metadata": {},
   "source": [
    "#### 4 Vectors\n",
    "\n",
    "Used to describe relativistic physics"
   ]
  },
  {
   "cell_type": "code",
   "execution_count": 110,
   "metadata": {},
   "outputs": [
    {
     "name": "stdout",
     "output_type": "stream",
     "text": [
      "(0.0, 0.0, 0.0, 0.0)\n",
      "False\n",
      "(2, 7, 7.5, 10)\n",
      "(0, 3, 1.5, 2)\n",
      "-47.5\n"
     ]
    }
   ],
   "source": [
    "class FourVectors:\n",
    "    def __init__(self,v = [0.0,0.0,0.0,0.0]):\n",
    "        self.v = v\n",
    "    __str__ = lambda self: str(tuple(round(x,3)for x in self.v))\n",
    "    __add__ = lambda self,other: tuple(self.v[x] + other.v[x] for x in range(0,4))\n",
    "    __sub__ = lambda self,other: tuple(self.v[x] - other.v[x] for x in range(0,4))    \n",
    "    __mul__ = lambda self,other: self.v[0] * other.v[0] - sum(x * y for x,y in zip(self.v,other.v)) if type(other) == FourVectors else FourVectors([x * other for x in self.v])\n",
    "    \n",
    "    getLength = lambda self: abs(self.v[0]** 0.5) - sum(x * x for x in self.v) ** 0.5\n",
    "    def getCasualStruc(self):\n",
    "        if self * self == 0:return 'lifelike'\n",
    "        elif(self * self < 0):return 'spacelike'\n",
    "        else:return 'timelike'\n",
    "    \n",
    "    KroneckerDelt = lambda i,j: bool(i == j)\n",
    "print(FourVectors()) \n",
    "print(FourVectors() == FourVectors([1,2,3,4])) \n",
    "print(FourVectors([1,5,4.5,6]) + FourVectors([1,2,3,4])) \n",
    "print(FourVectors([1,5,4.5,6]) - FourVectors([1,2,3,4])) \n",
    "print(FourVectors([1,5,4.5,6]) * FourVectors([1,2,3,4])) \n"
   ]
  }
 ],
 "metadata": {
  "kernelspec": {
   "display_name": "Python 3.10.8 64-bit (microsoft store)",
   "language": "python",
   "name": "python3"
  },
  "language_info": {
   "codemirror_mode": {
    "name": "ipython",
    "version": 3
   },
   "file_extension": ".py",
   "mimetype": "text/x-python",
   "name": "python",
   "nbconvert_exporter": "python",
   "pygments_lexer": "ipython3",
   "version": "3.10.10"
  },
  "orig_nbformat": 4,
  "vscode": {
   "interpreter": {
    "hash": "4002459b2a34582ef074ed8319629775a35d0246ebd0f70eba9a37a220e97760"
   }
  }
 },
 "nbformat": 4,
 "nbformat_minor": 2
}
